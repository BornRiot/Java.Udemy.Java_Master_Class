{
 "cells": [
  {
   "cell_type": "code",
   "execution_count": 9,
   "metadata": {},
   "outputs": [
    {
     "name": "stdout",
     "output_type": "stream",
     "text": [
      "The number 15 can be evenly divided by both 3 and 5\n",
      "The number 30 can be evenly divided by both 3 and 5\n",
      "The number 45 can be evenly divided by both 3 and 5\n",
      "The number 60 can be evenly divided by both 3 and 5\n",
      "The number 75 can be evenly divided by both 3 and 5\n",
      "The total numbers found in the loop that can be divded  by both 3 and 5 were: 5\n",
      "The total sum of the numbers found is 225\n"
     ]
    }
   ],
   "source": [
    "// This notebook is used to solve the sum 3 and 5 challenge issued in video 66\n",
    "int count = 0;\n",
    "int sum = 0;\n",
    "for (int i = 1; i <= 1000; i++ ){\n",
    "    if ((i % 3 ==0) && (i % 5 ==0) ){\n",
    "        sum += i; \n",
    "        count++;\n",
    "        System.out.println(\"The number \" +i+\" can be evenly divided by both 3 and 5\");\n",
    "        if(count == 5){\n",
    "            break;\n",
    "        }\n",
    "    }\n",
    "}\n",
    "System.out.println(\"The total numbers found in the loop that can be divded  by both 3 and 5 were: \"+ count);\n",
    "System.out.println(\"The total sum of the numbers found is \"+ sum);\n",
    "\n",
    "\n"
   ]
  },
  {
   "cell_type": "code",
   "execution_count": null,
   "metadata": {},
   "outputs": [],
   "source": [
    "\n"
   ]
  }
 ],
 "metadata": {
  "kernelspec": {
   "display_name": "Java",
   "language": "java",
   "name": "java"
  },
  "language_info": {
   "codemirror_mode": "java",
   "file_extension": ".jshell",
   "mimetype": "text/x-java-source",
   "name": "Java",
   "pygments_lexer": "java",
   "version": "11.0.8+10-LTS"
  }
 },
 "nbformat": 4,
 "nbformat_minor": 4
}
