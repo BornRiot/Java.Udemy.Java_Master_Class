{
 "cells": [
  {
   "cell_type": "code",
   "execution_count": 1,
   "metadata": {},
   "outputs": [],
   "source": [
    "/*\n",
    "  Video lecture discusses the topic of for loops in java and how to create and use them \n",
    "\n",
    "*/\n",
    "public static double calculateInterest(double amount, double rate){\n",
    "    return (amount *(rate / 100));\n",
    "}"
   ]
  },
  {
   "cell_type": "code",
   "execution_count": 2,
   "metadata": {},
   "outputs": [
    {
     "name": "stdout",
     "output_type": "stream",
     "text": [
      "10,000 at 2% interest is: 200.0\n"
     ]
    }
   ],
   "source": [
    "System.out.println(\"10,000 at 2% interest is: \" + calculateInterest(10000, 2.00));"
   ]
  },
  {
   "cell_type": "code",
   "execution_count": 3,
   "metadata": {},
   "outputs": [
    {
     "name": "stdout",
     "output_type": "stream",
     "text": [
      "Loop 0 Hello\n",
      "Loop 1 Hello\n",
      "Loop 2 Hello\n",
      "Loop 3 Hello\n",
      "Loop 4 Hello\n"
     ]
    }
   ],
   "source": [
    "// Basic syntax or structure of a for loop:\n",
    "// for (initialize; ternination; increment){\n",
    "//     Do something \n",
    "// } \n",
    "\n",
    "for (int i = 0; i < 5; i++){\n",
    "    System.out.println(\"Loop \" + i + \" Hello\");\n",
    "}"
   ]
  },
  {
   "cell_type": "code",
   "execution_count": 4,
   "metadata": {},
   "outputs": [],
   "source": [
    "// Rewrite the calcu;ateInterest method using a for loop and the interest values of 2-8%\n",
    "public  void calculateInterest(double amount){\n",
    "    double result = 0;\n",
    "    for (double  i = 2; i < 9; i++){\n",
    "        result = amount * (i/100);\n",
    "        System.out.println(amount + \" at \" + i + \"%\" +\" interst = \" + result);    \n",
    "        \n",
    "    } \n",
    "}"
   ]
  },
  {
   "cell_type": "code",
   "execution_count": 5,
   "metadata": {},
   "outputs": [
    {
     "name": "stdout",
     "output_type": "stream",
     "text": [
      "1000.0 at 2.0% interst = 20.0\n",
      "1000.0 at 3.0% interst = 30.0\n",
      "1000.0 at 4.0% interst = 40.0\n",
      "1000.0 at 5.0% interst = 50.0\n",
      "1000.0 at 6.0% interst = 60.0\n",
      "1000.0 at 7.0% interst = 70.0\n",
      "1000.0 at 8.0% interst = 80.0\n"
     ]
    }
   ],
   "source": [
    "calculateInterest(1000);"
   ]
  },
  {
   "cell_type": "markdown",
   "metadata": {},
   "source": [
    "# "
   ]
  },
  {
   "cell_type": "code",
   "execution_count": 6,
   "metadata": {},
   "outputs": [],
   "source": [
    "// Code below this line is uesed to test writing void and return methods to see if it will produce an error \n",
    "// in juyter notebook\n",
    "public static void some_method(String name){\n",
    "    System.out.println(\"The name entered in  the parameter is: \" + name);\n",
    "}"
   ]
  },
  {
   "cell_type": "code",
   "execution_count": 7,
   "metadata": {},
   "outputs": [
    {
     "name": "stdout",
     "output_type": "stream",
     "text": [
      "The name entered in  the parameter is: Mike\n"
     ]
    }
   ],
   "source": [
    "some_method(\"Mike\");"
   ]
  },
  {
   "cell_type": "code",
   "execution_count": 8,
   "metadata": {},
   "outputs": [],
   "source": [
    "public static String some_method2(String name){\n",
    "    return \"The name enetered in the parameter for some_method2 is: \"+ name;\n",
    "}"
   ]
  },
  {
   "cell_type": "code",
   "execution_count": 9,
   "metadata": {},
   "outputs": [
    {
     "name": "stdout",
     "output_type": "stream",
     "text": [
      "The name enetered in the parameter for some_method2 is: Mike\n"
     ]
    }
   ],
   "source": [
    "System.out.println(some_method2(\"Mike\"));"
   ]
  },
  {
   "cell_type": "code",
   "execution_count": 10,
   "metadata": {},
   "outputs": [
    {
     "name": "stdout",
     "output_type": "stream",
     "text": [
      "10,000 at 2 interest is: 200.00\n",
      "10,000 at 3 interest is: 300.00\n",
      "10,000 at 4 interest is: 400.00\n",
      "10,000 at 5 interest is: 500.00\n",
      "10,000 at 6 interest is: 600.00\n",
      "10,000 at 7 interest is: 700.00\n",
      "10,000 at 8 interest is: 800.00\n"
     ]
    }
   ],
   "source": [
    "public static double calculateInterest(double amount, double rate){\n",
    "    return (amount *(rate / 100));\n",
    "}\n",
    "// Instructors solutin was written as:\n",
    "for (int i = 2; i < 9; i++){\n",
    "    System.out.println(\"10,000 at \"+ i+ \" interest is: \" + String.format(\"%.2f\", calculateInterest(10000, i)));\n",
    "    \n",
    "}\n",
    "// Use of the java .format method was introduced in this video lecture"
   ]
  },
  {
   "cell_type": "code",
   "execution_count": 13,
   "metadata": {},
   "outputs": [
    {
     "name": "stdout",
     "output_type": "stream",
     "text": [
      "10,000 at 8 interest is: 800.00\n",
      "10,000 at 7 interest is: 700.00\n",
      "10,000 at 6 interest is: 600.00\n",
      "10,000 at 5 interest is: 500.00\n",
      "10,000 at 4 interest is: 400.00\n",
      "10,000 at 3 interest is: 300.00\n",
      "10,000 at 2 interest is: 200.00\n"
     ]
    }
   ],
   "source": [
    "// Modify the above for loop to have the interets rates printed starting from 8 going back to 2\n",
    "for (int i = 8; i > 1; i--){\n",
    "    System.out.println(\"10,000 at \"+ i+ \" interest is: \" + String.format(\"%.2f\", calculateInterest(10000, i)));\n",
    "    \n",
    "}"
   ]
  },
  {
   "cell_type": "code",
   "execution_count": 29,
   "metadata": {},
   "outputs": [],
   "source": [
    "// Method for testing if a number is prime that will be used in coming challenge:\n",
    "public static boolean isPrime(int n){\n",
    "    if (n == 1){\n",
    "        return false;\n",
    "    }\n",
    "    \n",
    "    for (int i = 2; i <= n/2; i++){\n",
    "        if(n % i == 0){\n",
    "        return false; \n",
    "        }\n",
    "    }\n",
    "    \n",
    "    return true; \n",
    "}\n",
    "\n",
    "// An optimized version of the isPrime method \n",
    "public static boolean isPrimeOptimized(int n){\n",
    "      if (n == 1){\n",
    "        return false;\n",
    "    }\n",
    "    \n",
    "    for (int i = 2; i <= (long)Math.sqrt(n); i++){\n",
    "        if(n % i == 0){\n",
    "        return false; \n",
    "        }\n",
    "    }\n",
    "    \n",
    "    return true;\n",
    "}"
   ]
  },
  {
   "cell_type": "code",
   "execution_count": 30,
   "metadata": {},
   "outputs": [
    {
     "name": "stdout",
     "output_type": "stream",
     "text": [
      "true\n",
      "true\n"
     ]
    }
   ],
   "source": [
    "System.out.println(isPrime(23));\n",
    "System.out.println(isPrimeOptimized(23));"
   ]
  },
  {
   "cell_type": "code",
   "execution_count": 31,
   "metadata": {},
   "outputs": [
    {
     "name": "stdout",
     "output_type": "stream",
     "text": [
      "Number 101 is a prime number \n",
      "Number 103 is a prime number \n",
      "Number 107 is a prime number \n",
      "The total number of primes found are 3\n"
     ]
    }
   ],
   "source": [
    "int countPrimes = 0;\n",
    "\n",
    "for (int i = 100; i < 250; i++){\n",
    "    if (isPrime(i)){\n",
    "        System.out.println(\"Number \"+ i+\" is a prime number \"); \n",
    "        countPrimes++;\n",
    "    }\n",
    "    if (countPrimes >= 3){\n",
    "        break;\n",
    "    }\n",
    "}\n",
    "System.out.println(\"The total number of primes found are \"+countPrimes);\n"
   ]
  },
  {
   "cell_type": "code",
   "execution_count": 23,
   "metadata": {},
   "outputs": [
    {
     "name": "stdout",
     "output_type": "stream",
     "text": [
      "Number 11 is a prime number \n",
      "Number 13 is a prime number \n",
      "Number 17 is a prime number \n",
      "Exiting for loop\n"
     ]
    }
   ],
   "source": [
    "// Instructors Soultion to challenege:\n",
    "int count = 0;\n",
    "for (int i = 10; i< 50; i++){\n",
    "    if(isPrime(i)){\n",
    "        count++;\n",
    "        System.out.println(\"Number \"+ i+\" is a prime number \"); \n",
    "        if(count == 3){\n",
    "            System.out.println(\"Exiting for loop\");\n",
    "            break;\n",
    "        }\n",
    "    }\n",
    "}"
   ]
  },
  {
   "cell_type": "code",
   "execution_count": null,
   "metadata": {},
   "outputs": [],
   "source": []
  }
 ],
 "metadata": {
  "kernelspec": {
   "display_name": "Java",
   "language": "java",
   "name": "java"
  },
  "language_info": {
   "codemirror_mode": "java",
   "file_extension": ".jshell",
   "mimetype": "text/x-java-source",
   "name": "Java",
   "pygments_lexer": "java",
   "version": "11.0.8+10-LTS"
  }
 },
 "nbformat": 4,
 "nbformat_minor": 4
}
