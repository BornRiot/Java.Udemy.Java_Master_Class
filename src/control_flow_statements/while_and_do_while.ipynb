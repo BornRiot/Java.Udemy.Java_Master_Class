{
 "cells": [
  {
   "cell_type": "code",
   "execution_count": 6,
   "metadata": {},
   "outputs": [
    {
     "name": "stdout",
     "output_type": "stream",
     "text": [
      "Count is 1\n",
      "Count is 2\n",
      "Count is 3\n",
      "Count is 4\n",
      "Count is 5\n"
     ]
    }
   ],
   "source": [
    "int count = 1;\n",
    "while(count != 6){\n",
    "    System.out.println(\"Count is \"+count);\n",
    "    count++;\n",
    "}"
   ]
  },
  {
   "cell_type": "code",
   "execution_count": 4,
   "metadata": {},
   "outputs": [
    {
     "name": "stdout",
     "output_type": "stream",
     "text": [
      "Count is 1\n",
      "Count is 2\n",
      "Count is 3\n",
      "Count is 4\n",
      "Count is 5\n"
     ]
    }
   ],
   "source": [
    "for (int i = 1; i <=5; i++){\n",
    "    System.out.println(\"Count is \"+i);\n",
    "}"
   ]
  },
  {
   "cell_type": "code",
   "execution_count": 7,
   "metadata": {},
   "outputs": [
    {
     "name": "stdout",
     "output_type": "stream",
     "text": [
      "Count value is 1\n",
      "Count value is 2\n",
      "Count value is 3\n",
      "Count value is 4\n",
      "Count value is 5\n"
     ]
    }
   ],
   "source": [
    "// Code can alo be written as \n",
    "count =  1;\n",
    "while(true){\n",
    "    if (count == 6){\n",
    "        break; \n",
    "    }\n",
    "    System.out.println(\"Count value is \" + count);\n",
    "    count++;\n",
    "}"
   ]
  },
  {
   "cell_type": "code",
   "execution_count": 8,
   "metadata": {},
   "outputs": [
    {
     "name": "stdout",
     "output_type": "stream",
     "text": [
      "Count value is: 1\n",
      "Count value is: 2\n",
      "Count value is: 3\n",
      "Count value is: 4\n",
      "Count value is: 5\n"
     ]
    }
   ],
   "source": [
    "// Uising a do while loop to print out the same results:\n",
    "count  = 1;\n",
    "do {\n",
    "    System.out.println(\"Count value is: \"+ count);\n",
    "    count++;\n",
    "} while (count != 6);"
   ]
  },
  {
   "cell_type": "code",
   "execution_count": 9,
   "metadata": {},
   "outputs": [],
   "source": [
    "public static boolean isEvenNumber(int theNumber){\n",
    "    return theNumber % 2 == 0;\n",
    "}"
   ]
  },
  {
   "cell_type": "code",
   "execution_count": 10,
   "metadata": {},
   "outputs": [
    {
     "name": "stdout",
     "output_type": "stream",
     "text": [
      "false\n"
     ]
    }
   ],
   "source": [
    "System.out.println(isEvenNumber(19));"
   ]
  },
  {
   "cell_type": "code",
   "execution_count": 11,
   "metadata": {},
   "outputs": [
    {
     "name": "stdout",
     "output_type": "stream",
     "text": [
      "true\n"
     ]
    }
   ],
   "source": [
    "System.out.println(isEvenNumber(24));"
   ]
  },
  {
   "cell_type": "code",
   "execution_count": 15,
   "metadata": {},
   "outputs": [
    {
     "name": "stdout",
     "output_type": "stream",
     "text": [
      "Even number is: 6\n",
      "Even number is: 8\n",
      "Even number is: 10\n",
      "Even number is: 12\n",
      "Even number is: 14\n",
      "Even number is: 16\n",
      "Even number is: 18\n",
      "Even number is: 20\n"
     ]
    }
   ],
   "source": [
    "// The code below prints iut the even numbers after the initial number 4 \n",
    "int number = 4;\n",
    "int finishNumber = 20;\n",
    "while(number <= finishNumber){\n",
    "    number++;\n",
    "    if(!isEvenNumber(number)){\n",
    "        continue;\n",
    "    }\n",
    "       System.out.println(\"Even number is: \" + number); \n",
    "}"
   ]
  },
  {
   "cell_type": "code",
   "execution_count": 24,
   "metadata": {},
   "outputs": [
    {
     "name": "stdout",
     "output_type": "stream",
     "text": [
      "Even number is: 6\n",
      "Even number is: 8\n",
      "Even number is: 10\n",
      "Even number is: 12\n",
      "Even number is: 14\n",
      "The total number of evens found were: 5\n"
     ]
    }
   ],
   "source": [
    "// Modify the while code above\n",
    "// Make it also record the total number of even numbers it has found\n",
    "// and break once 5 are found\n",
    "// and at the end, display the total number of even numbers found\n",
    "int tally = 0;\n",
    "int number = 4;\n",
    "int finishNumber = 20;\n",
    "while((number <= finishNumber) && (tally !=5)) {\n",
    "    number++;\n",
    "    if(!isEvenNumber(number)){\n",
    "        continue;\n",
    "    }\n",
    "    System.out.println(\"Even number is: \" + number);\n",
    "    tally++;\n",
    "\n",
    "}\n",
    "System.out.println(\"The total number of evens found were: \"+ tally);\n",
    "\n"
   ]
  },
  {
   "cell_type": "code",
   "execution_count": 25,
   "metadata": {},
   "outputs": [
    {
     "name": "stdout",
     "output_type": "stream",
     "text": [
      "Even number is: 6\n",
      "Even number is: 8\n",
      "Even number is: 10\n",
      "Even number is: 12\n",
      "Even number is: 14\n",
      "The total number of evens found were: 5\n"
     ]
    }
   ],
   "source": [
    "// Instructors solution\n",
    "int tally = 0;\n",
    "int number = 4;\n",
    "int finishNumber = 20;\n",
    "while(number <= finishNumber) {\n",
    "    number++;\n",
    "    if(!isEvenNumber(number)){\n",
    "        continue;\n",
    "    }\n",
    "    System.out.println(\"Even number is: \" + number);\n",
    "    tally++;\n",
    "    if(tally >=5){\n",
    "        break;\n",
    "    }\n",
    "\n",
    "}\n",
    "System.out.println(\"The total number of evens found were: \"+ tally);\n",
    "\n"
   ]
  },
  {
   "cell_type": "code",
   "execution_count": null,
   "metadata": {},
   "outputs": [],
   "source": []
  }
 ],
 "metadata": {
  "kernelspec": {
   "display_name": "Java",
   "language": "java",
   "name": "java"
  },
  "language_info": {
   "codemirror_mode": "java",
   "file_extension": ".jshell",
   "mimetype": "text/x-java-source",
   "name": "Java",
   "pygments_lexer": "java",
   "version": "11.0.8+10-LTS"
  }
 },
 "nbformat": 4,
 "nbformat_minor": 4
}
